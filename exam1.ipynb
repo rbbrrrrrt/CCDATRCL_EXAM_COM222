{
 "cells": [
  {
   "cell_type": "markdown",
   "metadata": {},
   "source": [
    "LinearSearch"
   ]
  },
  {
   "cell_type": "markdown",
   "metadata": {},
   "source": [
    "1."
   ]
  },
  {
   "cell_type": "code",
   "execution_count": 1028,
   "metadata": {},
   "outputs": [
    {
     "name": "stdout",
     "output_type": "stream",
     "text": [
      "Between 0 and 7\n"
     ]
    }
   ],
   "source": [
    "def linearSearch(my_list, number):\n",
    "\n",
    "    index = 0\n",
    "\n",
    "    for i in my_list:\n",
    "\n",
    "        if my_list[index] == number:\n",
    "            return index\n",
    "\n",
    "        index = index + 1\n",
    "\n",
    "    return -1\n",
    "\n",
    "def findLargestIncrease(student_number):\n",
    "    largest = 0\n",
    "    lowest = -1\n",
    "    highest = -1\n",
    "\n",
    "    for i in range(len(student_number) - 1):\n",
    "        increase = student_number[i + 1] - student_number[i]\n",
    "\n",
    "        if increase > largest:\n",
    "            largest = increase\n",
    "            lowest = student_number[i]\n",
    "            highest = student_number[i + 1]\n",
    "\n",
    "    return f\"Between {lowest} and {highest}\"\n",
    "\n",
    "\n",
    "student_number = [2,0,2,2,1,0,7,4,1,0]\n",
    "\n",
    "largestIncrease = findLargestIncrease(student_number)\n",
    "\n",
    "print(largestIncrease)"
   ]
  },
  {
   "cell_type": "markdown",
   "metadata": {},
   "source": [
    "2."
   ]
  },
  {
   "cell_type": "code",
   "execution_count": 1029,
   "metadata": {},
   "outputs": [
    {
     "name": "stdout",
     "output_type": "stream",
     "text": [
      "Between 7 and 4\n"
     ]
    }
   ],
   "source": [
    "def findLargestDecrease(student_number):\n",
    "    dmax= 0\n",
    "    low = -1\n",
    "    high = -1\n",
    "\n",
    "    for i in range(len(student_number) - 1):\n",
    "        decrease = student_number[i - 1] - student_number[i]\n",
    "\n",
    "        if decrease < dmax:\n",
    "            dmax = decrease\n",
    "            low = student_number[i]\n",
    "            high = student_number[i + 1]\n",
    "\n",
    "    return f\"Between {low} and {high}\"\n",
    "\n",
    "\n",
    "student_number = [2,0,2,2,1,0,7,4,1,0]\n",
    "\n",
    "largestDecrease = findLargestDecrease(student_number)\n",
    "\n",
    "print(largestDecrease)"
   ]
  },
  {
   "cell_type": "markdown",
   "metadata": {},
   "source": [
    "Linked List"
   ]
  },
  {
   "cell_type": "markdown",
   "metadata": {},
   "source": [
    "1."
   ]
  },
  {
   "cell_type": "code",
   "execution_count": 1030,
   "metadata": {},
   "outputs": [],
   "source": [
    "class Node:\n",
    "\n",
    "    def __init__(self, data):\n",
    "        self.data = data\n",
    "        self.next = None  # null"
   ]
  },
  {
   "cell_type": "code",
   "execution_count": 1031,
   "metadata": {},
   "outputs": [],
   "source": [
    "class SinglyLinkedList:\n",
    "\n",
    "    def __init__(self):\n",
    "        self.head = None\n",
    "\n",
    "    def traverse(self, node):\n",
    "        print(\"[\", end=\"\")\n",
    "        while node:\n",
    "            stud_num = str(node.data)\n",
    "            print(\", \".join(stud_num), end=\"\")\n",
    "            node = node.next\n",
    "            print(\"]\")"
   ]
  },
  {
   "cell_type": "code",
   "execution_count": 1032,
   "metadata": {},
   "outputs": [
    {
     "name": "stdout",
     "output_type": "stream",
     "text": [
      "[2, 0, 2, 2, 1, 0, 7, 4, 1, 0]\n"
     ]
    }
   ],
   "source": [
    "num_list = SinglyLinkedList()\n",
    "\n",
    "num_list.head = Node(2022107410)\n",
    "\n",
    "\n",
    "num_list.traverse(num_list.head)"
   ]
  },
  {
   "cell_type": "markdown",
   "metadata": {},
   "source": [
    "2."
   ]
  },
  {
   "cell_type": "code",
   "execution_count": 1033,
   "metadata": {},
   "outputs": [
    {
     "name": "stdout",
     "output_type": "stream",
     "text": [
      "True\n"
     ]
    }
   ],
   "source": [
    "def is_prime(num):\n",
    "    def is_prime(num):\n",
    "        if num < 2:\n",
    "            return False\n",
    "    for i in range(2, int(num**0.5) + 1):\n",
    "        if num % i == 0:\n",
    "            return False\n",
    "    return True\n",
    "\n",
    "def hasPrime(linked_list):\n",
    "    last_digits = \"\"\n",
    "    student_number = linked_list.head\n",
    "\n",
    "    while student_number:\n",
    "        last_digits += str(student_number.data)\n",
    "        student_number = student_number.next\n",
    "\n",
    "    last_digits = last_digits[-6:]\n",
    "\n",
    "    for num in last_digits:\n",
    "        if is_prime(int(num)):\n",
    "            return True\n",
    "\n",
    "    return False\n",
    "\n",
    "\n",
    "print(hasPrime(num_list))"
   ]
  },
  {
   "cell_type": "markdown",
   "metadata": {},
   "source": [
    "3.\n"
   ]
  },
  {
   "cell_type": "code",
   "execution_count": null,
   "metadata": {},
   "outputs": [],
   "source": [
    "\n"
   ]
  },
  {
   "cell_type": "markdown",
   "metadata": {},
   "source": [
    "**STACK**"
   ]
  },
  {
   "cell_type": "code",
   "execution_count": 1034,
   "metadata": {},
   "outputs": [],
   "source": [
    "def create_stack():\n",
    "    stack = []\n",
    "    return stack\n",
    "\n",
    "\n",
    "def print_stack(stack):\n",
    "\n",
    "    if (check_empty(stack)):\n",
    "        return \"stack is empty\"\n",
    "\n",
    "    # Create a copy of the stack and reverse the elements\n",
    "    tempStack = stack.copy()\n",
    "    tempStack.reverse()\n",
    "\n",
    "    # Print all elements using a loop\n",
    "    for i in tempStack:\n",
    "        print(i)\n",
    "\n",
    "    # Delete the copy to free up memory\n",
    "    del tempStack\n",
    "\n",
    "# Creating an empty stack\n",
    "\n",
    "\n",
    "def check_empty(stack):\n",
    "    return len(stack) == 0\n",
    "\n",
    "\n",
    "# Adding items into the stack\n",
    "def push(stack, item):\n",
    "    stack.append(item)\n",
    "    \n",
    "\n",
    "\n",
    "# Removing an element from the stack\n",
    "def pop(stack):\n",
    "    if (check_empty(stack)):\n",
    "        return \"stack is empty\"\n",
    "\n",
    "    return stack.pop()\n",
    "\n",
    "\n",
    "def peek(stack):\n",
    "\n",
    "    # Use negative indexing to display the last element of the list\n",
    "    print(stack[-1])"
   ]
  },
  {
   "cell_type": "markdown",
   "metadata": {},
   "source": [
    "1."
   ]
  },
  {
   "cell_type": "code",
   "execution_count": 1035,
   "metadata": {},
   "outputs": [
    {
     "name": "stdout",
     "output_type": "stream",
     "text": [
      "['R', 'H', 'E', 'N', 'I', 'E', 'R']\n",
      " \n",
      "[2, 0, 2, 2, 1, 0, 7, 4, 1, 0]\n"
     ]
    }
   ],
   "source": [
    "name_stack = create_stack()\n",
    "num_stack = create_stack()\n",
    "\n",
    "push(name_stack, 'R')\n",
    "push(name_stack, 'H')\n",
    "push(name_stack, 'E')\n",
    "push(name_stack, 'N')\n",
    "push(name_stack, 'I')\n",
    "push(name_stack, 'E')\n",
    "push(name_stack, 'R')\n",
    "\n",
    "print(name_stack)\n",
    "\n",
    "push(num_stack, 2)\n",
    "push(num_stack, 0)\n",
    "push(num_stack, 2)\n",
    "push(num_stack, 2)\n",
    "push(num_stack, 1)\n",
    "push(num_stack, 0)\n",
    "push(num_stack, 7)\n",
    "push(num_stack, 4)\n",
    "push(num_stack, 1)\n",
    "push(num_stack, 0)\n",
    "\n",
    "print(\" \")\n",
    "print(num_stack)\n"
   ]
  },
  {
   "cell_type": "markdown",
   "metadata": {},
   "source": [
    "2."
   ]
  },
  {
   "cell_type": "code",
   "execution_count": 1036,
   "metadata": {},
   "outputs": [
    {
     "name": "stdout",
     "output_type": "stream",
     "text": [
      "[1, 'R', 'H', 'E', 'N', 'I', 'E', 'R', 0]\n"
     ]
    }
   ],
   "source": [
    "my_stack = create_stack()\n",
    "\n",
    "fifth = num_stack[4]\n",
    "last = num_stack[-1]\n",
    "\n",
    "push(my_stack, fifth)\n",
    "\n",
    "for item in name_stack:\n",
    "    push(my_stack, item)\n",
    "\n",
    "push(my_stack, last)\n",
    "\n",
    "print((my_stack))\n"
   ]
  },
  {
   "cell_type": "markdown",
   "metadata": {},
   "source": [
    "3."
   ]
  },
  {
   "cell_type": "code",
   "execution_count": 1037,
   "metadata": {},
   "outputs": [
    {
     "name": "stdout",
     "output_type": "stream",
     "text": [
      "True\n",
      "False\n"
     ]
    }
   ],
   "source": [
    "\n",
    "def verifyStack(my_stack):\n",
    "   \n",
    "    if str(my_stack[0]) != str(1):\n",
    "        return False\n",
    "    \n",
    "\n",
    "    if my_stack[1:-1] != name_stack:\n",
    "        return False\n",
    "\n",
    "    if str(my_stack[-1]) != str(num_stack[5]):\n",
    "        return False\n",
    "    \n",
    "    return True\n",
    "        \n",
    "\n",
    "my_stack = [1, 'R', 'H', 'E', 'N', 'I', 'E', 'R', 0]\n",
    "result1 = verifyStack(my_stack)\n",
    "print(result1)  \n",
    "\n",
    "my_stack = [1, 'R', 'H', 'E', 'N', 'I', 'E', 'R', 1]\n",
    "result = verifyStack(my_stack)\n",
    "print(result)  \n",
    "   "
   ]
  },
  {
   "cell_type": "markdown",
   "metadata": {},
   "source": [
    "**QUEUE**"
   ]
  },
  {
   "cell_type": "markdown",
   "metadata": {},
   "source": [
    "1."
   ]
  },
  {
   "cell_type": "code",
   "execution_count": 1038,
   "metadata": {},
   "outputs": [],
   "source": [
    "class Queue:\n",
    "    def __init__(self):\n",
    "        self.queue = []\n",
    "\n",
    "    # Add an element\n",
    "    def enqueue(self, item):\n",
    "        self.queue.append(item)\n",
    "\n",
    "    # Remove an element\n",
    "    def dequeue(self):\n",
    "        if len(self.queue) < 1:\n",
    "            return None\n",
    "        return self.queue.pop(0)\n",
    "\n",
    "    # Display  the queue\n",
    "    def display(self):\n",
    "        print(self.queue)\n",
    "\n",
    "    def size(self):\n",
    "        return len(self.queue)\n",
    "\n",
    "    def peek(self):\n",
    "        return self.queue[0]"
   ]
  },
  {
   "cell_type": "code",
   "execution_count": 1039,
   "metadata": {},
   "outputs": [
    {
     "name": "stdout",
     "output_type": "stream",
     "text": [
      "[2, 0, 2, 2, 1, 0, 7, 4, 1, 0]\n"
     ]
    }
   ],
   "source": [
    "num_queue = Queue()\n",
    "\n",
    "num_queue.enqueue(2)\n",
    "num_queue.enqueue(0)\n",
    "num_queue.enqueue(2)\n",
    "num_queue.enqueue(2)\n",
    "num_queue.enqueue(1)\n",
    "num_queue.enqueue(0)\n",
    "num_queue.enqueue(7)\n",
    "num_queue.enqueue(4)\n",
    "num_queue.enqueue(1)\n",
    "num_queue.enqueue(0)\n",
    "\n",
    "num_queue.display()"
   ]
  },
  {
   "cell_type": "markdown",
   "metadata": {},
   "source": [
    "2."
   ]
  },
  {
   "cell_type": "code",
   "execution_count": 1040,
   "metadata": {},
   "outputs": [
    {
     "name": "stdout",
     "output_type": "stream",
     "text": [
      "7\n"
     ]
    }
   ],
   "source": [
    "\n",
    "def getMax(queue):\n",
    "\n",
    "    if not queue:\n",
    "        return None\n",
    "    \n",
    "    maximum = queue.queue[0]\n",
    "\n",
    "    for item in queue.queue:\n",
    "        if item > maximum:\n",
    "            maximum = item\n",
    "\n",
    "    return maximum\n",
    "\n",
    "\n",
    "print(getMax(num_queue))\n"
   ]
  },
  {
   "cell_type": "markdown",
   "metadata": {},
   "source": [
    "3."
   ]
  },
  {
   "cell_type": "code",
   "execution_count": 1041,
   "metadata": {},
   "outputs": [
    {
     "name": "stdout",
     "output_type": "stream",
     "text": [
      "[1, 7, 1]\n"
     ]
    }
   ],
   "source": [
    "\n",
    "oddnum = []\n",
    "\n",
    "def getOdd(queue):\n",
    "    for i in queue.queue:\n",
    "        if i % 2 != 0:\n",
    "            oddnum.append(i)\n",
    "\n",
    "getOdd(num_queue)\n",
    "\n",
    "print(oddnum)\n"
   ]
  },
  {
   "cell_type": "markdown",
   "metadata": {},
   "source": [
    "4."
   ]
  },
  {
   "cell_type": "code",
   "execution_count": 1042,
   "metadata": {},
   "outputs": [
    {
     "name": "stdout",
     "output_type": "stream",
     "text": [
      "[2, 0, 1, 7, 4]\n"
     ]
    }
   ],
   "source": [
    "def removeDup(queue):\n",
    "    unique = list()\n",
    "    noDup = Queue()\n",
    "\n",
    "    while queue.size() > 0:\n",
    "\n",
    "        x = queue.dequeue()\n",
    "\n",
    "        if x not in unique:\n",
    "           unique.append(x)\n",
    "           noDup.enqueue(x)\n",
    "\n",
    "    queue.queue = noDup.queue\n",
    "    return queue\n",
    "\n",
    "new = removeDup(num_queue)\n",
    "\n",
    "new.display()"
   ]
  },
  {
   "cell_type": "markdown",
   "metadata": {},
   "source": [
    "**Sort**"
   ]
  },
  {
   "cell_type": "code",
   "execution_count": 1043,
   "metadata": {},
   "outputs": [
    {
     "name": "stdout",
     "output_type": "stream",
     "text": [
      "[2, 0, 2, 2, 0, 0, 1, 1, 4, 7]\n"
     ]
    }
   ],
   "source": [
    "def insertionSort(array):\n",
    "    for step in range(1, len(array)):\n",
    "        key = array[step]\n",
    "        j = step - 1\n",
    "\n",
    "        # Compare key with each element on the left of it until an element smaller than it is found\n",
    "        # For descending order, change key<array[j] to key>array[j].\n",
    "        while j >= 0 and key < array[j]:\n",
    "            array[j + 1] = array[j]\n",
    "            j = j - 1\n",
    "          \n",
    "        # Place key at after the element just smaller than it.\n",
    "        array[j + 1] = key\n",
    "\n",
    "\n",
    "\n",
    "\n",
    "student_number = [2,0,2,2,1,0,7,4,1,0]  \n",
    "\n",
    "last_six = student_number[-6:]\n",
    "\n",
    "insertionSort(last_six)\n",
    "\n",
    "sorted_num = student_number[:-6] + last_six\n",
    "\n",
    "print(sorted_num)"
   ]
  },
  {
   "cell_type": "markdown",
   "metadata": {},
   "source": [
    "2."
   ]
  },
  {
   "cell_type": "code",
   "execution_count": 1044,
   "metadata": {},
   "outputs": [
    {
     "name": "stdout",
     "output_type": "stream",
     "text": [
      "[0, 0, 0, 2, 2, 2, 4, 7, 1, 1]\n"
     ]
    }
   ],
   "source": [
    "even = []\n",
    "\n",
    "# Iterate through the student_number list\n",
    "for x in student_number:\n",
    "    if x % 2 == 0:\n",
    "        even.append(x)\n",
    "even.sort()\n",
    "\n",
    "odd = []\n",
    "\n",
    "# Iterate through the student_number list\n",
    "for x in student_number:\n",
    "    if x % 2 != 0:\n",
    "        odd.append(x)\n",
    "odd.sort(reverse=True)\n",
    "\n",
    "\n",
    "student_num = even + odd\n",
    "\n",
    "print(student_num)"
   ]
  }
 ],
 "metadata": {
  "kernelspec": {
   "display_name": "Python 3",
   "language": "python",
   "name": "python3"
  },
  "language_info": {
   "name": "python",
   "version": "3.11.5"
  },
  "orig_nbformat": 4
 },
 "nbformat": 4,
 "nbformat_minor": 2
}
